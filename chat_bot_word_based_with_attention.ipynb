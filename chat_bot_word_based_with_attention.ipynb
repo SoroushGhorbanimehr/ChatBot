{
  "nbformat": 4,
  "nbformat_minor": 0,
  "metadata": {
    "kernelspec": {
      "display_name": "Python 3",
      "language": "python",
      "name": "python3"
    },
    "language_info": {
      "name": "python",
      "version": "3.6.4",
      "mimetype": "text/x-python",
      "codemirror_mode": {
        "name": "ipython",
        "version": 3
      },
      "pygments_lexer": "ipython3",
      "nbconvert_exporter": "python",
      "file_extension": ".py"
    },
    "colab": {
      "name": "chat-bot-word-based-with-attention.ipynb",
      "provenance": []
    }
  },
  "cells": [
    {
      "cell_type": "markdown",
      "metadata": {
        "id": "or-eqlgSGN3A"
      },
      "source": [
        "***https://www.cs.cornell.edu/~cristian/Cornell_Movie-Dialogs_Corpus.***"
      ]
    },
    {
      "cell_type": "code",
      "metadata": {
        "_uuid": "8f2839f25d086af736a60e9eeb907d3b93b6e0e5",
        "_cell_guid": "b1076dfc-b9ad-4769-8c92-a6c4dae69d19",
        "execution": {
          "iopub.status.busy": "2021-06-08T08:04:46.767715Z",
          "iopub.execute_input": "2021-06-08T08:04:46.768030Z",
          "iopub.status.idle": "2021-06-08T08:04:50.238567Z",
          "shell.execute_reply.started": "2021-06-08T08:04:46.767973Z",
          "shell.execute_reply": "2021-06-08T08:04:50.237858Z"
        },
        "trusted": true,
        "id": "S1UzrH4wF_3q",
        "outputId": "cae2d722-0fa8-421d-8ed9-9c6b1897b0f5"
      },
      "source": [
        "from __future__ import print_function\n",
        "\n",
        "import sys\n",
        "import os\n",
        "import pandas as pd\n",
        "import numpy as np\n",
        "import re\n",
        "import nltk\n",
        "\n",
        "from keras.layers import Input, Embedding, LSTM, TimeDistributed, Dense, Bidirectional\n",
        "from keras.models import Model, load_model\n",
        "\n",
        "INPUT_LENGTH = 20\n",
        "OUTPUT_LENGTH = 20\n",
        "\n",
        "import os\n",
        "print(os.listdir(\"../input\"))\n",
        "\n",
        "# Any results you write to the current directory are saved as output."
      ],
      "execution_count": null,
      "outputs": [
        {
          "output_type": "stream",
          "text": [
            "/opt/conda/lib/python3.6/site-packages/h5py/__init__.py:36: FutureWarning: Conversion of the second argument of issubdtype from `float` to `np.floating` is deprecated. In future, it will be treated as `np.float64 == np.dtype(float).type`.\n",
            "  from ._conv import register_converters as _register_converters\n",
            "Using TensorFlow backend.\n"
          ],
          "name": "stderr"
        },
        {
          "output_type": "stream",
          "text": [
            "['movie_conversations.txt', 'README.txt', 'chameleons.pdf', 'movie_titles_metadata.txt', 'movie_characters_metadata.txt', 'movie_lines.txt', '.DS_Store', 'raw_script_urls.txt']\n"
          ],
          "name": "stdout"
        }
      ]
    },
    {
      "cell_type": "markdown",
      "metadata": {
        "_uuid": "9c5007896f6a9aaf3395fc82447ca2bb5cc57b65",
        "id": "wH1Jwv7CF_3s"
      },
      "source": [
        "### Resources:\n",
        "https://wanasit.github.io/attention-based-sequence-to-sequence-in-keras.html"
      ]
    },
    {
      "cell_type": "code",
      "metadata": {
        "_cell_guid": "79c7e3d0-c299-4dcb-8224-4455121ee9b0",
        "_uuid": "d629ff2d2480ee46fbb7e2d37f6b5fab8052498a",
        "execution": {
          "iopub.status.busy": "2021-06-08T08:04:50.239372Z",
          "iopub.execute_input": "2021-06-08T08:04:50.239604Z",
          "iopub.status.idle": "2021-06-08T08:04:51.039484Z",
          "shell.execute_reply.started": "2021-06-08T08:04:50.239563Z",
          "shell.execute_reply": "2021-06-08T08:04:51.038725Z"
        },
        "trusted": true,
        "id": "99yLgAP-F_3s"
      },
      "source": [
        "# Load the data\n",
        "lines = open('../input/movie_lines.txt', encoding='utf-8', errors='ignore').read().split('\\n')\n",
        "conv_lines = open('../input/movie_conversations.txt', encoding='utf-8', errors='ignore').read().split('\\n')"
      ],
      "execution_count": null,
      "outputs": []
    },
    {
      "cell_type": "code",
      "metadata": {
        "execution": {
          "iopub.status.busy": "2021-06-08T09:56:08.988024Z",
          "iopub.execute_input": "2021-06-08T09:56:08.988346Z",
          "iopub.status.idle": "2021-06-08T09:56:09.035159Z",
          "shell.execute_reply.started": "2021-06-08T09:56:08.988290Z",
          "shell.execute_reply": "2021-06-08T09:56:09.034513Z"
        },
        "trusted": true,
        "id": "jiJmiGwXF_3t",
        "outputId": "893cc9cc-5be0-4e19-93ed-1352345a2c67"
      },
      "source": [
        "pd.DataFrame(lines).head(4)"
      ],
      "execution_count": null,
      "outputs": [
        {
          "output_type": "execute_result",
          "data": {
            "text/plain": [
              "                                                   0\n",
              "0  L1045 +++$+++ u0 +++$+++ m0 +++$+++ BIANCA +++...\n",
              "1  L1044 +++$+++ u2 +++$+++ m0 +++$+++ CAMERON ++...\n",
              "2  L985 +++$+++ u0 +++$+++ m0 +++$+++ BIANCA +++$...\n",
              "3  L984 +++$+++ u2 +++$+++ m0 +++$+++ CAMERON +++..."
            ],
            "text/html": [
              "<div>\n",
              "<style scoped>\n",
              "    .dataframe tbody tr th:only-of-type {\n",
              "        vertical-align: middle;\n",
              "    }\n",
              "\n",
              "    .dataframe tbody tr th {\n",
              "        vertical-align: top;\n",
              "    }\n",
              "\n",
              "    .dataframe thead th {\n",
              "        text-align: right;\n",
              "    }\n",
              "</style>\n",
              "<table border=\"1\" class=\"dataframe\">\n",
              "  <thead>\n",
              "    <tr style=\"text-align: right;\">\n",
              "      <th></th>\n",
              "      <th>0</th>\n",
              "    </tr>\n",
              "  </thead>\n",
              "  <tbody>\n",
              "    <tr>\n",
              "      <th>0</th>\n",
              "      <td>L1045 +++$+++ u0 +++$+++ m0 +++$+++ BIANCA +++...</td>\n",
              "    </tr>\n",
              "    <tr>\n",
              "      <th>1</th>\n",
              "      <td>L1044 +++$+++ u2 +++$+++ m0 +++$+++ CAMERON ++...</td>\n",
              "    </tr>\n",
              "    <tr>\n",
              "      <th>2</th>\n",
              "      <td>L985 +++$+++ u0 +++$+++ m0 +++$+++ BIANCA +++$...</td>\n",
              "    </tr>\n",
              "    <tr>\n",
              "      <th>3</th>\n",
              "      <td>L984 +++$+++ u2 +++$+++ m0 +++$+++ CAMERON +++...</td>\n",
              "    </tr>\n",
              "  </tbody>\n",
              "</table>\n",
              "</div>"
            ]
          },
          "metadata": {
            "tags": []
          },
          "execution_count": 34
        }
      ]
    },
    {
      "cell_type": "code",
      "metadata": {
        "execution": {
          "iopub.status.busy": "2021-06-08T09:56:22.026713Z",
          "iopub.execute_input": "2021-06-08T09:56:22.026993Z",
          "iopub.status.idle": "2021-06-08T09:56:22.041923Z",
          "shell.execute_reply.started": "2021-06-08T09:56:22.026943Z",
          "shell.execute_reply": "2021-06-08T09:56:22.041137Z"
        },
        "trusted": true,
        "id": "oto2afzzF_3t",
        "outputId": "0e2c1181-0e3c-4f27-8852-f88f3d822e5a"
      },
      "source": [
        "pd.DataFrame(conv_lines).head(4)"
      ],
      "execution_count": null,
      "outputs": [
        {
          "output_type": "execute_result",
          "data": {
            "text/plain": [
              "                                                   0\n",
              "0  u0 +++$+++ u2 +++$+++ m0 +++$+++ ['L194', 'L19...\n",
              "1  u0 +++$+++ u2 +++$+++ m0 +++$+++ ['L198', 'L199']\n",
              "2  u0 +++$+++ u2 +++$+++ m0 +++$+++ ['L200', 'L20...\n",
              "3  u0 +++$+++ u2 +++$+++ m0 +++$+++ ['L204', 'L20..."
            ],
            "text/html": [
              "<div>\n",
              "<style scoped>\n",
              "    .dataframe tbody tr th:only-of-type {\n",
              "        vertical-align: middle;\n",
              "    }\n",
              "\n",
              "    .dataframe tbody tr th {\n",
              "        vertical-align: top;\n",
              "    }\n",
              "\n",
              "    .dataframe thead th {\n",
              "        text-align: right;\n",
              "    }\n",
              "</style>\n",
              "<table border=\"1\" class=\"dataframe\">\n",
              "  <thead>\n",
              "    <tr style=\"text-align: right;\">\n",
              "      <th></th>\n",
              "      <th>0</th>\n",
              "    </tr>\n",
              "  </thead>\n",
              "  <tbody>\n",
              "    <tr>\n",
              "      <th>0</th>\n",
              "      <td>u0 +++$+++ u2 +++$+++ m0 +++$+++ ['L194', 'L19...</td>\n",
              "    </tr>\n",
              "    <tr>\n",
              "      <th>1</th>\n",
              "      <td>u0 +++$+++ u2 +++$+++ m0 +++$+++ ['L198', 'L199']</td>\n",
              "    </tr>\n",
              "    <tr>\n",
              "      <th>2</th>\n",
              "      <td>u0 +++$+++ u2 +++$+++ m0 +++$+++ ['L200', 'L20...</td>\n",
              "    </tr>\n",
              "    <tr>\n",
              "      <th>3</th>\n",
              "      <td>u0 +++$+++ u2 +++$+++ m0 +++$+++ ['L204', 'L20...</td>\n",
              "    </tr>\n",
              "  </tbody>\n",
              "</table>\n",
              "</div>"
            ]
          },
          "metadata": {
            "tags": []
          },
          "execution_count": 35
        }
      ]
    },
    {
      "cell_type": "code",
      "metadata": {
        "_uuid": "3983a4469fd5ed2f4b8db5a6cc41eda070c9142f",
        "execution": {
          "iopub.status.busy": "2021-06-08T09:57:55.935841Z",
          "iopub.execute_input": "2021-06-08T09:57:55.936125Z",
          "iopub.status.idle": "2021-06-08T09:57:56.312066Z",
          "shell.execute_reply.started": "2021-06-08T09:57:55.936072Z",
          "shell.execute_reply": "2021-06-08T09:57:56.311374Z"
        },
        "trusted": true,
        "id": "WpX_at0CF_3u"
      },
      "source": [
        "# Create a dictionary to map each line's id with its text\n",
        "id2line = {}\n",
        "for line in lines:\n",
        "    _line = line.split(' +++$+++ ')\n",
        "    if len(_line) == 5:\n",
        "        id2line[_line[0]] = _line[4]\n",
        "        \n"
      ],
      "execution_count": null,
      "outputs": []
    },
    {
      "cell_type": "code",
      "metadata": {
        "_uuid": "260fe85783607a5f8190796b4415dee00cdeabc5",
        "execution": {
          "iopub.status.busy": "2021-06-08T09:59:00.088152Z",
          "iopub.execute_input": "2021-06-08T09:59:00.088448Z",
          "iopub.status.idle": "2021-06-08T09:59:00.294023Z",
          "shell.execute_reply.started": "2021-06-08T09:59:00.088399Z",
          "shell.execute_reply": "2021-06-08T09:59:00.293195Z"
        },
        "trusted": true,
        "id": "7Yxy710_F_3u",
        "outputId": "9b8a27c8-bd66-4260-d205-d468d7292e15"
      },
      "source": [
        "# Create a list of all of the conversations' lines' ids.\n",
        "convs = []\n",
        "for line in conv_lines[:-1]:\n",
        "    _line = line.split(' +++$+++ ')[-1][1:-1].replace(\"'\",\"\").replace(\" \",\"\")\n",
        "    convs.append(_line.split(','))\n",
        "    \n",
        "convs[0]"
      ],
      "execution_count": null,
      "outputs": [
        {
          "output_type": "execute_result",
          "data": {
            "text/plain": [
              "['L194', 'L195', 'L196', 'L197']"
            ]
          },
          "metadata": {
            "tags": []
          },
          "execution_count": 45
        }
      ]
    },
    {
      "cell_type": "code",
      "metadata": {
        "_uuid": "260fe85783607a5f8190796b4415dee00cdeabc5",
        "execution": {
          "iopub.status.busy": "2021-06-08T09:59:38.099155Z",
          "iopub.execute_input": "2021-06-08T09:59:38.099474Z",
          "iopub.status.idle": "2021-06-08T09:59:38.300045Z",
          "shell.execute_reply.started": "2021-06-08T09:59:38.099424Z",
          "shell.execute_reply": "2021-06-08T09:59:38.299213Z"
        },
        "trusted": true,
        "id": "KkhBw0QAF_3v",
        "outputId": "4bb3dbf5-6c54-4b92-dca3-9ea684499d7b"
      },
      "source": [
        "# Create a list of all of the conversations' lines' ids.\n",
        "convs = []\n",
        "for line in conv_lines[:-1]:\n",
        "    _line = line.split(' +++$+++ ')[-1][1:-1].replace(\"'\",\"\").replace(\" \",\"\")\n",
        "    convs.append(_line.split(','))\n",
        "    \n",
        "print(len(convs))\n",
        "print(convs[0])"
      ],
      "execution_count": null,
      "outputs": [
        {
          "output_type": "stream",
          "text": [
            "83097\n",
            "['L194', 'L195', 'L196', 'L197']\n"
          ],
          "name": "stdout"
        }
      ]
    },
    {
      "cell_type": "code",
      "metadata": {
        "_uuid": "c7ac8d38b75b1101165c37cdab3fca42597eb4d7",
        "execution": {
          "iopub.status.busy": "2021-06-08T08:04:51.756549Z",
          "iopub.execute_input": "2021-06-08T08:04:51.756864Z",
          "iopub.status.idle": "2021-06-08T08:04:51.765606Z",
          "shell.execute_reply.started": "2021-06-08T08:04:51.756818Z",
          "shell.execute_reply": "2021-06-08T08:04:51.762315Z"
        },
        "trusted": true,
        "id": "hcsalcrCF_3v",
        "outputId": "6fa39599-5018-47b4-dc22-ddd0b41e2a9b"
      },
      "source": [
        "#id and conversation sample\n",
        "for k in convs[300]:\n",
        "    print (k, id2line[k])"
      ],
      "execution_count": null,
      "outputs": [
        {
          "output_type": "stream",
          "text": [
            "L3490 That's what he did to me.  He put cigarettes out on me.\n",
            "L3491 Your father put cigarettes out on you?\n",
            "L3492 Out on my back when I was a small boy.\n",
            "L3493 Can I see your back?\n"
          ],
          "name": "stdout"
        }
      ]
    },
    {
      "cell_type": "code",
      "metadata": {
        "_uuid": "a3142e705c67fd80837a998a7884dd584c30f57c",
        "execution": {
          "iopub.status.busy": "2021-06-08T10:01:39.582857Z",
          "iopub.execute_input": "2021-06-08T10:01:39.583145Z",
          "iopub.status.idle": "2021-06-08T10:01:39.997374Z",
          "shell.execute_reply.started": "2021-06-08T10:01:39.583092Z",
          "shell.execute_reply": "2021-06-08T10:01:39.996429Z"
        },
        "trusted": true,
        "id": "jbzm7R-pF_3v",
        "outputId": "40e3a734-283e-4c93-8a3b-f3740d62927d"
      },
      "source": [
        "# Sort the sentences into questions (inputs) and answers (targets)\n",
        "questions = []\n",
        "answers = []\n",
        "for conv in convs:\n",
        "    for i in range(len(conv)-1):\n",
        "        questions.append(id2line[conv[i]])\n",
        "        answers.append(id2line[conv[i+1]])\n",
        "        \n",
        "        \n",
        "print('Q1 :' , questions[0])        \n",
        "print('A1 :' ,answers[0])        \n",
        "print('\\n')\n",
        "print('Q1 :' , questions[1])        \n",
        "print('A1 :' ,answers[1])        \n",
        "print('\\n')\n",
        "print('Q1 :' , questions[2])        \n",
        "print('A1 :' ,answers[2])        \n",
        "\n",
        "\n",
        "\n",
        "print('****************************************')\n",
        "# Compare lengths of questions and answers\n",
        "print(len(questions))\n",
        "print(len(answers))"
      ],
      "execution_count": null,
      "outputs": [
        {
          "output_type": "stream",
          "text": [
            "Q1 : Can we make this quick?  Roxanne Korrine and Andrew Barrett are having an incredibly horrendous public break- up on the quad.  Again.\n",
            "A1 : Well, I thought we'd start with pronunciation, if that's okay with you.\n",
            "\n",
            "\n",
            "Q1 : Well, I thought we'd start with pronunciation, if that's okay with you.\n",
            "A1 : Not the hacking and gagging and spitting part.  Please.\n",
            "\n",
            "\n",
            "Q1 : Not the hacking and gagging and spitting part.  Please.\n",
            "A1 : Okay... then how 'bout we try out some French cuisine.  Saturday?  Night?\n",
            "****************************************\n",
            "221616\n",
            "221616\n"
          ],
          "name": "stdout"
        }
      ]
    },
    {
      "cell_type": "code",
      "metadata": {
        "_uuid": "85f3e1713f0620f066f5a5ee34b31c9a73d768fa",
        "execution": {
          "iopub.status.busy": "2021-06-08T08:04:52.030235Z",
          "iopub.execute_input": "2021-06-08T08:04:52.030568Z",
          "iopub.status.idle": "2021-06-08T08:04:52.088424Z",
          "shell.execute_reply.started": "2021-06-08T08:04:52.030504Z",
          "shell.execute_reply": "2021-06-08T08:04:52.087728Z"
        },
        "trusted": true,
        "id": "vlq4RC0ZF_3w"
      },
      "source": [
        "def clean_text(text):\n",
        "    '''Clean text by removing unnecessary characters and altering the format of words.'''\n",
        "    text = text.lower()\n",
        "    text = re.sub(r\"i'm\", \"i am\", text)\n",
        "    text = re.sub(r\"he's\", \"he is\", text)\n",
        "    text = re.sub(r\"she's\", \"she is\", text)\n",
        "    text = re.sub(r\"it's\", \"it is\", text)\n",
        "    text = re.sub(r\"that's\", \"that is\", text)\n",
        "    text = re.sub(r\"what's\", \"that is\", text)\n",
        "    text = re.sub(r\"where's\", \"where is\", text)\n",
        "    text = re.sub(r\"how's\", \"how is\", text)\n",
        "    text = re.sub(r\"\\'ll\", \" will\", text)\n",
        "    text = re.sub(r\"\\'ve\", \" have\", text)\n",
        "    text = re.sub(r\"\\'re\", \" are\", text)\n",
        "    text = re.sub(r\"\\'d\", \" would\", text)\n",
        "    text = re.sub(r\"\\'re\", \" are\", text)\n",
        "    text = re.sub(r\"won't\", \"will not\", text)\n",
        "    text = re.sub(r\"can't\", \"cannot\", text)\n",
        "    text = re.sub(r\"n't\", \" not\", text)\n",
        "    text = re.sub(r\"n'\", \"ng\", text)\n",
        "    text = re.sub(r\"'bout\", \"about\", text)\n",
        "    text = re.sub(r\"'til\", \"until\", text)\n",
        "    text = re.sub(r\"[-()\\\"#/@;:<>{}`+=~|]\", \"\", text)\n",
        "#     text = re.sub(r\"[-()\\\"#/@;:<>{}`+=~|.!?,]\", \"\", text)\n",
        "    text = \" \".join(text.split())\n",
        "    return text"
      ],
      "execution_count": null,
      "outputs": []
    },
    {
      "cell_type": "code",
      "metadata": {
        "_uuid": "162b9f09f2e3e50ed92f157a5ce0faf3bb0d0019",
        "execution": {
          "iopub.status.busy": "2021-06-08T08:04:52.089802Z",
          "iopub.execute_input": "2021-06-08T08:04:52.090385Z",
          "iopub.status.idle": "2021-06-08T08:05:04.873155Z",
          "shell.execute_reply.started": "2021-06-08T08:04:52.090105Z",
          "shell.execute_reply": "2021-06-08T08:05:04.872405Z"
        },
        "trusted": true,
        "id": "WB9NHRfrF_3w"
      },
      "source": [
        "# Clean the data\n",
        "clean_questions = []\n",
        "for question in questions:\n",
        "    clean_questions.append(clean_text(question))\n",
        "clean_answers = []    \n",
        "for answer in answers:\n",
        "    clean_answers.append(clean_text(answer))"
      ],
      "execution_count": null,
      "outputs": []
    },
    {
      "cell_type": "code",
      "metadata": {
        "execution": {
          "iopub.status.busy": "2021-06-08T10:02:47.779690Z",
          "iopub.execute_input": "2021-06-08T10:02:47.779985Z",
          "iopub.status.idle": "2021-06-08T10:02:47.803825Z",
          "shell.execute_reply.started": "2021-06-08T10:02:47.779936Z",
          "shell.execute_reply": "2021-06-08T10:02:47.803042Z"
        },
        "trusted": true,
        "id": "uKZQqdSAF_3x",
        "outputId": "8c196f47-a443-4c99-ba52-4309310f3b56"
      },
      "source": [
        "        \n",
        "print('Q1 :' , clean_questions[0])        \n",
        "print('A1 :' ,clean_answers[0])        \n",
        "print('\\n')\n",
        "print('Q1 :' , clean_questions[1])        \n",
        "print('A1 :' ,clean_answers[1])        \n",
        "print('\\n')\n",
        "print('Q1 :' , clean_questions[2])        \n",
        "print('A1 :' ,clean_answers[2])   "
      ],
      "execution_count": null,
      "outputs": [
        {
          "output_type": "stream",
          "text": [
            "Q1 : can we make this quick? roxanne korrine and andrew barrett are having an incredibly horrendous public break up on the quad. again.\n",
            "A1 : well, i thought we would start with pronunciation, if that is okay with you.\n",
            "\n",
            "\n",
            "Q1 : well, i thought we would start with pronunciation, if that is okay with you.\n",
            "A1 : not the hacking and gagging and spitting part. please.\n",
            "\n",
            "\n",
            "Q1 : not the hacking and gagging and spitting part. please.\n",
            "A1 : okay... then how about we try out some french cuisine. saturday? night?\n"
          ],
          "name": "stdout"
        }
      ]
    },
    {
      "cell_type": "code",
      "metadata": {
        "_uuid": "b1df72b880bbf79a8043ae3b608d37e89b5807e9",
        "execution": {
          "iopub.status.busy": "2021-06-08T10:03:02.657932Z",
          "iopub.execute_input": "2021-06-08T10:03:02.658229Z",
          "iopub.status.idle": "2021-06-08T10:03:03.260494Z",
          "shell.execute_reply.started": "2021-06-08T10:03:02.658177Z",
          "shell.execute_reply": "2021-06-08T10:03:03.259666Z"
        },
        "trusted": true,
        "id": "61-E6UkUF_3x",
        "outputId": "9efeb89c-65c3-49a4-f939-cc8dc92552ea"
      },
      "source": [
        "# Find the length of sentences (not using nltk due to processing speed)\n",
        "lengths = []\n",
        "# lengths.append([len(nltk.word_tokenize(sent)) for sent in clean_questions]) #nltk approach\n",
        "for question in clean_questions:\n",
        "    lengths.append(len(question.split()))\n",
        "for answer in clean_answers:\n",
        "    lengths.append(len(answer.split()))\n",
        "# Create a dataframe so that the values can be inspected\n",
        "lengths = pd.DataFrame(lengths, columns=['counts'])\n",
        "print(np.percentile(lengths, 80))\n",
        "print(np.percentile(lengths, 85))\n",
        "print(np.percentile(lengths, 90))\n",
        "print(np.percentile(lengths, 95))"
      ],
      "execution_count": null,
      "outputs": [
        {
          "output_type": "stream",
          "text": [
            "16.0\n",
            "19.0\n",
            "24.0\n",
            "32.0\n"
          ],
          "name": "stdout"
        }
      ]
    },
    {
      "cell_type": "code",
      "metadata": {
        "_uuid": "0035c49ba3da36e903a600b22c737e6a5c34de6e",
        "execution": {
          "iopub.status.busy": "2021-06-08T08:05:05.500017Z",
          "iopub.execute_input": "2021-06-08T08:05:05.500345Z",
          "iopub.status.idle": "2021-06-08T08:05:06.392493Z",
          "shell.execute_reply.started": "2021-06-08T08:05:05.500281Z",
          "shell.execute_reply": "2021-06-08T08:05:06.391669Z"
        },
        "trusted": true,
        "id": "E8O7xgokF_3x",
        "outputId": "2559c79e-b671-4d8b-d3d9-91c34fcd6ee5"
      },
      "source": [
        "# Remove questions and answers that are shorter than 1 word and longer than 20 words.\n",
        "min_line_length = 2\n",
        "max_line_length = 20\n",
        "\n",
        "# Filter out the questions that are too short/long\n",
        "short_questions_temp = []\n",
        "short_answers_temp = []\n",
        "\n",
        "for i, question in enumerate(clean_questions):\n",
        "    if len(question.split()) >= min_line_length and len(question.split()) <= max_line_length:\n",
        "        short_questions_temp.append(question)\n",
        "        short_answers_temp.append(clean_answers[i])\n",
        "\n",
        "# Filter out the answers that are too short/long\n",
        "short_questions = []\n",
        "short_answers = []\n",
        "\n",
        "for i, answer in enumerate(short_answers_temp):\n",
        "    if len(answer.split()) >= min_line_length and len(answer.split()) <= max_line_length:\n",
        "        short_answers.append(answer)\n",
        "        short_questions.append(short_questions_temp[i])\n",
        "        \n",
        "print(len(short_questions))\n",
        "print(len(short_answers))"
      ],
      "execution_count": null,
      "outputs": [
        {
          "output_type": "stream",
          "text": [
            "138528\n",
            "138528\n"
          ],
          "name": "stdout"
        }
      ]
    },
    {
      "cell_type": "code",
      "metadata": {
        "_uuid": "85389732fd564d7b160339bb26d0d1b5dea41fe7",
        "execution": {
          "iopub.status.busy": "2021-06-08T08:05:06.393947Z",
          "iopub.execute_input": "2021-06-08T08:05:06.394388Z",
          "iopub.status.idle": "2021-06-08T08:05:06.407857Z",
          "shell.execute_reply.started": "2021-06-08T08:05:06.394247Z",
          "shell.execute_reply": "2021-06-08T08:05:06.407029Z"
        },
        "trusted": true,
        "id": "7QjaLoSXF_3y",
        "outputId": "772c3151-2f5a-4a37-90e5-cc3d24fb1186"
      },
      "source": [
        "r = np.random.randint(1,len(short_questions))\n",
        "\n",
        "for i in range(r, r+3):\n",
        "    print(short_questions[i])\n",
        "    print(short_answers[i])\n",
        "    print()"
      ],
      "execution_count": null,
      "outputs": [
        {
          "output_type": "stream",
          "text": [
            "we are finished.\n",
            "what about me?\n",
            "\n",
            "you are an hour and a half late.\n",
            "my watch is broken, too.\n",
            "\n",
            "my watch is broken, too.\n",
            "punctuality. first rule of show business.\n",
            "\n"
          ],
          "name": "stdout"
        }
      ]
    },
    {
      "cell_type": "markdown",
      "metadata": {
        "_uuid": "5825a5967e5a04f13b0a755e8ba304c419af4b33",
        "id": "xb3s3Pd7F_3z"
      },
      "source": [
        "### 1.1  Preprocessing for word based model"
      ]
    },
    {
      "cell_type": "code",
      "metadata": {
        "_uuid": "106248b9b0ac7499c2b34cc3ae1c20a2e0ea41c4",
        "execution": {
          "iopub.status.busy": "2021-06-08T08:05:06.409360Z",
          "iopub.execute_input": "2021-06-08T08:05:06.409705Z",
          "iopub.status.idle": "2021-06-08T08:05:17.943275Z",
          "shell.execute_reply.started": "2021-06-08T08:05:06.409637Z",
          "shell.execute_reply": "2021-06-08T08:05:17.942555Z"
        },
        "trusted": true,
        "id": "BHC5WQFHF_3z"
      },
      "source": [
        "#choosing number of samples\n",
        "num_samples = 30000  # Number of samples to train on.\n",
        "short_questions = short_questions[:num_samples]\n",
        "short_answers = short_answers[:num_samples]\n",
        "#tokenizing the qns and answers\n",
        "short_questions_tok = [nltk.word_tokenize(sent) for sent in short_questions]\n",
        "short_answers_tok = [nltk.word_tokenize(sent) for sent in short_answers]"
      ],
      "execution_count": null,
      "outputs": []
    },
    {
      "cell_type": "code",
      "metadata": {
        "_uuid": "8b37316d3b68626ed388bbb73863364608027796",
        "execution": {
          "iopub.status.busy": "2021-06-08T08:05:17.944434Z",
          "iopub.execute_input": "2021-06-08T08:05:17.944726Z",
          "iopub.status.idle": "2021-06-08T08:05:17.979693Z",
          "shell.execute_reply.started": "2021-06-08T08:05:17.944670Z",
          "shell.execute_reply": "2021-06-08T08:05:17.978682Z"
        },
        "trusted": true,
        "id": "zHHqkEd8F_3z",
        "outputId": "c7aa3eef-2c50-49ab-aab1-6b6f9597b9da"
      },
      "source": [
        "#train-validation split\n",
        "data_size = len(short_questions_tok)\n",
        "\n",
        "# We will use the first 0-80th %-tile (80%) of data for the training\n",
        "training_input  = short_questions_tok[:round(data_size*(80/100))]\n",
        "training_input  = [tr_input[::-1] for tr_input in training_input] #reverseing input seq for better performance\n",
        "training_output = short_answers_tok[:round(data_size*(80/100))]\n",
        "\n",
        "# We will use the remaining for validation\n",
        "validation_input = short_questions_tok[round(data_size*(80/100)):]\n",
        "validation_input  = [val_input[::-1] for val_input in validation_input] #reverseing input seq for better performance\n",
        "validation_output = short_answers_tok[round(data_size*(80/100)):]\n",
        "\n",
        "print('training size', len(training_input))\n",
        "print('validation size', len(validation_input))"
      ],
      "execution_count": null,
      "outputs": [
        {
          "output_type": "stream",
          "text": [
            "training size 24000\n",
            "validation size 6000\n"
          ],
          "name": "stdout"
        }
      ]
    },
    {
      "cell_type": "markdown",
      "metadata": {
        "_uuid": "a3aacc0315837faf77599da087f8b3a52d217859",
        "id": "SkxdYYHbF_3z"
      },
      "source": [
        "### 1.2  Word encoding/decoding dictionaries"
      ]
    },
    {
      "cell_type": "code",
      "metadata": {
        "_uuid": "51918567f4f43ae13a8d58a00bda15b1d508b191",
        "execution": {
          "iopub.status.busy": "2021-06-08T08:05:17.981298Z",
          "iopub.execute_input": "2021-06-08T08:05:17.981742Z",
          "iopub.status.idle": "2021-06-08T08:05:18.175012Z",
          "shell.execute_reply.started": "2021-06-08T08:05:17.981669Z",
          "shell.execute_reply": "2021-06-08T08:05:18.174175Z"
        },
        "trusted": true,
        "id": "UgsAaga0F_30"
      },
      "source": [
        "# Create a dictionary for the frequency of the vocabulary\n",
        "# Create \n",
        "vocab = {}\n",
        "for question in short_questions_tok:\n",
        "    for word in question:\n",
        "        if word not in vocab:\n",
        "            vocab[word] = 1\n",
        "        else:\n",
        "            vocab[word] += 1\n",
        "\n",
        "for answer in short_answers_tok:\n",
        "    for word in answer:\n",
        "        if word not in vocab:\n",
        "            vocab[word] = 1\n",
        "        else:\n",
        "            vocab[word] += 1            "
      ],
      "execution_count": null,
      "outputs": []
    },
    {
      "cell_type": "code",
      "metadata": {
        "_uuid": "30d25056e8f62453bcde0a16c8a7933275f431c9",
        "execution": {
          "iopub.status.busy": "2021-06-08T08:05:18.178443Z",
          "iopub.execute_input": "2021-06-08T08:05:18.178687Z",
          "iopub.status.idle": "2021-06-08T08:05:18.188364Z",
          "shell.execute_reply.started": "2021-06-08T08:05:18.178643Z",
          "shell.execute_reply": "2021-06-08T08:05:18.187483Z"
        },
        "trusted": true,
        "id": "WDbL7MNMF_30"
      },
      "source": [
        "# Remove rare words from the vocabulary.\n",
        "# We will aim to replace fewer than 5% of words with <UNK>\n",
        "# You will see this ratio soon.\n",
        "threshold = 15\n",
        "count = 0\n",
        "for k,v in vocab.items():\n",
        "    if v >= threshold:\n",
        "        count += 1"
      ],
      "execution_count": null,
      "outputs": []
    },
    {
      "cell_type": "code",
      "metadata": {
        "_uuid": "4c980b035173d12d2bf06dafd6410eb5da6023b2",
        "execution": {
          "iopub.status.busy": "2021-06-08T08:05:18.189609Z",
          "iopub.execute_input": "2021-06-08T08:05:18.190069Z",
          "iopub.status.idle": "2021-06-08T08:05:18.200913Z",
          "shell.execute_reply.started": "2021-06-08T08:05:18.190017Z",
          "shell.execute_reply": "2021-06-08T08:05:18.200110Z"
        },
        "trusted": true,
        "id": "mjV8sVjpF_30",
        "outputId": "db906395-bbb9-486f-d253-073ada732c34"
      },
      "source": [
        "print(\"Size of total vocab:\", len(vocab))\n",
        "print(\"Size of vocab we will use:\", count)"
      ],
      "execution_count": null,
      "outputs": [
        {
          "output_type": "stream",
          "text": [
            "Size of total vocab: 16560\n",
            "Size of vocab we will use: 1938\n"
          ],
          "name": "stdout"
        }
      ]
    },
    {
      "cell_type": "code",
      "metadata": {
        "_uuid": "d62a629773e34bb7bc1a12508cce820c0e47962d",
        "execution": {
          "iopub.status.busy": "2021-06-08T08:05:18.202091Z",
          "iopub.execute_input": "2021-06-08T08:05:18.202618Z",
          "iopub.status.idle": "2021-06-08T08:05:18.221712Z",
          "shell.execute_reply.started": "2021-06-08T08:05:18.202544Z",
          "shell.execute_reply": "2021-06-08T08:05:18.220996Z"
        },
        "trusted": true,
        "id": "saCiWYF8F_30",
        "outputId": "9c0c2bdc-01e3-4a02-9be2-9456217dcc53"
      },
      "source": [
        "#we will create dictionaries to provide a unique integer for each word.\n",
        "WORD_CODE_START = 1\n",
        "WORD_CODE_PADDING = 0\n",
        "\n",
        "\n",
        "word_num  = 2 #number 1 is left for WORD_CODE_START for model decoder later\n",
        "encoding = {}\n",
        "decoding = {1: 'START'}\n",
        "for word, count in vocab.items():\n",
        "    if count >= threshold: #get vocabularies that appear above threshold count\n",
        "        encoding[word] = word_num \n",
        "        decoding[word_num ] = word\n",
        "        word_num += 1\n",
        "\n",
        "print(\"No. of vocab used:\", word_num)"
      ],
      "execution_count": null,
      "outputs": [
        {
          "output_type": "stream",
          "text": [
            "No. of vocab used: 1940\n"
          ],
          "name": "stdout"
        }
      ]
    },
    {
      "cell_type": "code",
      "metadata": {
        "_uuid": "de2e46d3826def6b6c94a9827c32118d555fae2e",
        "execution": {
          "iopub.status.busy": "2021-06-08T08:05:18.222900Z",
          "iopub.execute_input": "2021-06-08T08:05:18.223214Z",
          "iopub.status.idle": "2021-06-08T08:05:18.230391Z",
          "shell.execute_reply.started": "2021-06-08T08:05:18.223141Z",
          "shell.execute_reply": "2021-06-08T08:05:18.229768Z"
        },
        "trusted": true,
        "id": "nS-iqFqkF_31"
      },
      "source": [
        "#include unknown token for words not in dictionary\n",
        "decoding[len(encoding)+2] = '<UNK>'\n",
        "encoding['<UNK>'] = len(encoding)+2"
      ],
      "execution_count": null,
      "outputs": []
    },
    {
      "cell_type": "code",
      "metadata": {
        "_uuid": "bccd51e8730e7c3da1234af9480da767f400c230",
        "execution": {
          "iopub.status.busy": "2021-06-08T08:05:18.231597Z",
          "iopub.execute_input": "2021-06-08T08:05:18.232096Z",
          "iopub.status.idle": "2021-06-08T08:05:18.250224Z",
          "shell.execute_reply.started": "2021-06-08T08:05:18.232021Z",
          "shell.execute_reply": "2021-06-08T08:05:18.249328Z"
        },
        "trusted": true,
        "id": "4hFAnTPqF_31",
        "outputId": "e50bc493-a7fc-4cd3-cc04-43b8804717e2"
      },
      "source": [
        "dict_size = word_num+1\n",
        "dict_size"
      ],
      "execution_count": null,
      "outputs": [
        {
          "output_type": "execute_result",
          "data": {
            "text/plain": [
              "1941"
            ]
          },
          "metadata": {
            "tags": []
          },
          "execution_count": 19
        }
      ]
    },
    {
      "cell_type": "markdown",
      "metadata": {
        "_uuid": "7ea3c32a6180ee8fea8b1490b40351897cc426e6",
        "id": "tQZYbAXwF_31"
      },
      "source": [
        "### 1.3  Vectorizing dataset"
      ]
    },
    {
      "cell_type": "code",
      "metadata": {
        "_uuid": "4de33f91476bd6c50cf7c9322f273079783ceec2",
        "execution": {
          "iopub.status.busy": "2021-06-08T08:05:18.251585Z",
          "iopub.execute_input": "2021-06-08T08:05:18.251992Z",
          "iopub.status.idle": "2021-06-08T08:05:18.265480Z",
          "shell.execute_reply.started": "2021-06-08T08:05:18.251922Z",
          "shell.execute_reply": "2021-06-08T08:05:18.264411Z"
        },
        "trusted": true,
        "id": "IRM6hizmF_31"
      },
      "source": [
        "def transform(encoding, data, vector_size=20):\n",
        "    \"\"\"\n",
        "    :param encoding: encoding dict built by build_word_encoding()\n",
        "    :param data: list of strings\n",
        "    :param vector_size: size of each encoded vector\n",
        "    \"\"\"\n",
        "    transformed_data = np.zeros(shape=(len(data), vector_size))\n",
        "    for i in range(len(data)):\n",
        "        for j in range(min(len(data[i]), vector_size)):\n",
        "            try:\n",
        "                transformed_data[i][j] = encoding[data[i][j]]\n",
        "            except:\n",
        "                transformed_data[i][j] = encoding['<UNK>']\n",
        "    return transformed_data"
      ],
      "execution_count": null,
      "outputs": []
    },
    {
      "cell_type": "code",
      "metadata": {
        "_uuid": "f13007fbe8661c4c2ea4c35fd51b86c4fc220efb",
        "execution": {
          "iopub.status.busy": "2021-06-08T08:05:18.266955Z",
          "iopub.execute_input": "2021-06-08T08:05:18.267414Z",
          "iopub.status.idle": "2021-06-08T08:05:18.636074Z",
          "shell.execute_reply.started": "2021-06-08T08:05:18.267304Z",
          "shell.execute_reply": "2021-06-08T08:05:18.635183Z"
        },
        "trusted": true,
        "id": "PpOt3w6EF_31",
        "outputId": "826dc613-bec7-4f44-a4c5-ee8176aa7d4b"
      },
      "source": [
        "#encoding training set\n",
        "encoded_training_input = transform(\n",
        "    encoding, training_input, vector_size=INPUT_LENGTH)\n",
        "encoded_training_output = transform(\n",
        "    encoding, training_output, vector_size=OUTPUT_LENGTH)\n",
        "\n",
        "print('encoded_training_input', encoded_training_input.shape)\n",
        "print('encoded_training_output', encoded_training_output.shape)"
      ],
      "execution_count": null,
      "outputs": [
        {
          "output_type": "stream",
          "text": [
            "encoded_training_input (24000, 20)\n",
            "encoded_training_output (24000, 20)\n"
          ],
          "name": "stdout"
        }
      ]
    },
    {
      "cell_type": "code",
      "metadata": {
        "execution": {
          "iopub.status.busy": "2021-06-08T10:04:14.169225Z",
          "iopub.execute_input": "2021-06-08T10:04:14.169579Z",
          "iopub.status.idle": "2021-06-08T10:04:14.180028Z",
          "shell.execute_reply.started": "2021-06-08T10:04:14.169526Z",
          "shell.execute_reply": "2021-06-08T10:04:14.179247Z"
        },
        "trusted": true,
        "id": "g7YQnTvrF_32",
        "outputId": "3c85fdf5-8bc2-4dad-bc31-86fa680fae82"
      },
      "source": [
        "encoded_training_input"
      ],
      "execution_count": null,
      "outputs": [
        {
          "output_type": "execute_result",
          "data": {
            "text/plain": [
              "array([[  15.,   14.,    9., ...,    0.,    0.,    0.],\n",
              "       [  15.,   20.,   15., ...,    0.,    0.,    0.],\n",
              "       [  30.,   29.,   28., ...,    0.,    0.,    0.],\n",
              "       ...,\n",
              "       [  15., 1335., 1940., ...,    0.,    0.,    0.],\n",
              "       [  30., 1940.,  271., ...,    0.,    0.,    0.],\n",
              "       [  15., 1940.,   88., ...,    0.,    0.,    0.]])"
            ]
          },
          "metadata": {
            "tags": []
          },
          "execution_count": 57
        }
      ]
    },
    {
      "cell_type": "code",
      "metadata": {
        "execution": {
          "iopub.status.busy": "2021-06-08T10:04:51.680173Z",
          "iopub.execute_input": "2021-06-08T10:04:51.680490Z",
          "iopub.status.idle": "2021-06-08T10:04:51.686782Z",
          "shell.execute_reply.started": "2021-06-08T10:04:51.680439Z",
          "shell.execute_reply": "2021-06-08T10:04:51.685759Z"
        },
        "trusted": true,
        "id": "QcNoDztuF_32",
        "outputId": "95482e7b-27e8-4098-b6d7-0f7075aa8644"
      },
      "source": [
        "encoded_training_output"
      ],
      "execution_count": null,
      "outputs": [
        {
          "output_type": "execute_result",
          "data": {
            "text/plain": [
              "array([[  16.,   17., 1940., ...,    0.,    0.,    0.],\n",
              "       [  13.,   36.,  149., ...,    0.,    0.,    0.],\n",
              "       [ 131.,   42.,   15., ...,    0.,    0.,    0.],\n",
              "       ...,\n",
              "       [1940.,   15.,   45., ...,    0.,    0.,    0.],\n",
              "       [ 298.,   15.,   88., ...,    0.,    0.,    0.],\n",
              "       [   4.,    7.,   51., ...,    0.,    0.,    0.]])"
            ]
          },
          "metadata": {
            "tags": []
          },
          "execution_count": 58
        }
      ]
    },
    {
      "cell_type": "code",
      "metadata": {
        "_uuid": "cbbf370a5d0640a4dea6b6d9237a5917978b92a8",
        "execution": {
          "iopub.status.busy": "2021-06-08T10:04:55.508686Z",
          "iopub.execute_input": "2021-06-08T10:04:55.508972Z",
          "iopub.status.idle": "2021-06-08T10:04:55.609599Z",
          "shell.execute_reply.started": "2021-06-08T10:04:55.508922Z",
          "shell.execute_reply": "2021-06-08T10:04:55.608766Z"
        },
        "trusted": true,
        "id": "1xe5G4swF_32",
        "outputId": "7384874b-8bcf-4fcf-cb69-7f37f2376b67"
      },
      "source": [
        "#encoding validation set\n",
        "encoded_validation_input = transform(\n",
        "    encoding, validation_input, vector_size=INPUT_LENGTH)\n",
        "encoded_validation_output = transform(\n",
        "    encoding, validation_output, vector_size=OUTPUT_LENGTH)\n",
        "\n",
        "print('encoded_validation_input', encoded_validation_input.shape)\n",
        "print('encoded_validation_output', encoded_validation_output.shape)"
      ],
      "execution_count": null,
      "outputs": [
        {
          "output_type": "stream",
          "text": [
            "encoded_validation_input (6000, 20)\n",
            "encoded_validation_output (6000, 20)\n"
          ],
          "name": "stdout"
        }
      ]
    },
    {
      "cell_type": "markdown",
      "metadata": {
        "_uuid": "b52f0368fecf8ac79903927799fe67c104d8e518",
        "id": "lfETF9FqF_33"
      },
      "source": [
        "## 2  Model Building\n",
        "### 2.1  Sequence-to-Sequence in Keras"
      ]
    },
    {
      "cell_type": "code",
      "metadata": {
        "_uuid": "e8b5afc77468e4e263b3fc7ff62a2e6952a80e97",
        "execution": {
          "iopub.status.busy": "2021-06-08T08:05:18.740192Z",
          "iopub.execute_input": "2021-06-08T08:05:18.740543Z",
          "iopub.status.idle": "2021-06-08T08:05:18.762137Z",
          "shell.execute_reply.started": "2021-06-08T08:05:18.740477Z",
          "shell.execute_reply": "2021-06-08T08:05:18.761483Z"
        },
        "trusted": true,
        "id": "k2IqHO4ZF_33"
      },
      "source": [
        "import tensorflow as tf\n",
        "tf.keras.backend.clear_session()"
      ],
      "execution_count": null,
      "outputs": []
    },
    {
      "cell_type": "code",
      "metadata": {
        "_uuid": "306b1fb012febd74dd40840c0588bdd8503ba65b",
        "execution": {
          "iopub.status.busy": "2021-06-08T08:05:18.763727Z",
          "iopub.execute_input": "2021-06-08T08:05:18.764046Z",
          "iopub.status.idle": "2021-06-08T08:05:18.770818Z",
          "shell.execute_reply.started": "2021-06-08T08:05:18.763985Z",
          "shell.execute_reply": "2021-06-08T08:05:18.770041Z"
        },
        "trusted": true,
        "id": "uYDqGEptF_33"
      },
      "source": [
        "INPUT_LENGTH = 20\n",
        "OUTPUT_LENGTH = 20\n",
        "\n",
        "encoder_input = Input(shape=(INPUT_LENGTH,))\n",
        "decoder_input = Input(shape=(OUTPUT_LENGTH,))"
      ],
      "execution_count": null,
      "outputs": []
    },
    {
      "cell_type": "code",
      "metadata": {
        "_uuid": "d91367ec6c706059c4b520011fdec6e1051db38d",
        "execution": {
          "iopub.status.busy": "2021-06-08T08:05:18.772144Z",
          "iopub.execute_input": "2021-06-08T08:05:18.772610Z",
          "iopub.status.idle": "2021-06-08T08:05:21.292873Z",
          "shell.execute_reply.started": "2021-06-08T08:05:18.772411Z",
          "shell.execute_reply": "2021-06-08T08:05:21.292088Z"
        },
        "trusted": true,
        "id": "anIR0bF1F_33",
        "outputId": "366ad6ee-fc30-4173-ce91-614bc4d33173"
      },
      "source": [
        "from keras.layers import SimpleRNN\n",
        "\n",
        "encoder = Embedding(dict_size, 128, input_length=INPUT_LENGTH, mask_zero=True)(encoder_input)\n",
        "encoder = LSTM(512, return_sequences=True, unroll=True)(encoder)\n",
        "encoder_last = encoder[:,-1,:]\n",
        "\n",
        "print('encoder', encoder)\n",
        "print('encoder_last', encoder_last)\n",
        "\n",
        "decoder = Embedding(dict_size, 128, input_length=OUTPUT_LENGTH, mask_zero=True)(decoder_input)\n",
        "decoder = LSTM(512, return_sequences=True, unroll=True)(decoder, initial_state=[encoder_last, encoder_last])\n",
        "\n",
        "print('decoder', decoder)\n",
        "\n",
        "# For the plain Sequence-to-Sequence, we produced the output from directly from decoder\n",
        "# output = TimeDistributed(Dense(output_dict_size, activation=\"softmax\"))(decoder)"
      ],
      "execution_count": null,
      "outputs": [
        {
          "output_type": "stream",
          "text": [
            "encoder Tensor(\"lstm_1/transpose_2:0\", shape=(?, 20, 512), dtype=float32)\n",
            "encoder_last Tensor(\"strided_slice:0\", shape=(?, 512), dtype=float32)\n",
            "decoder Tensor(\"lstm_2/transpose_2:0\", shape=(?, 20, 512), dtype=float32)\n"
          ],
          "name": "stdout"
        }
      ]
    },
    {
      "cell_type": "markdown",
      "metadata": {
        "_uuid": "2feb58fa60a8ff335b218114808aa2d3e4d37461",
        "id": "MLXqfZv3F_33"
      },
      "source": [
        "### 2.2  Attention Mechanism\n",
        "Reference: Effective Approaches to Attention-based Neural Machine Translation's Global Attention with Dot-based scoring function (Section 3, 3.1) https://arxiv.org/pdf/1508.04025.pdf"
      ]
    },
    {
      "cell_type": "code",
      "metadata": {
        "_uuid": "89c5ce99b6b7e42bf02559816dc56cdc9a29423e",
        "execution": {
          "iopub.status.busy": "2021-06-08T08:05:21.294054Z",
          "iopub.execute_input": "2021-06-08T08:05:21.294527Z",
          "iopub.status.idle": "2021-06-08T08:05:21.351616Z",
          "shell.execute_reply.started": "2021-06-08T08:05:21.294472Z",
          "shell.execute_reply": "2021-06-08T08:05:21.350775Z"
        },
        "trusted": true,
        "id": "tm_ZU89DF_34",
        "outputId": "ba8bd12e-79db-48d5-bcb9-a10984a09304"
      },
      "source": [
        "from keras.layers import Activation, dot, concatenate\n",
        "\n",
        "# Equation (7) with 'dot' score from Section 3.1 in the paper.\n",
        "# Note that we reuse Softmax-activation layer instead of writing tensor calculation\n",
        "attention = dot([decoder, encoder], axes=[2, 2])\n",
        "attention = Activation('softmax', name='attention')(attention)\n",
        "print('attention', attention)\n",
        "\n",
        "context = dot([attention, encoder], axes=[2,1])\n",
        "print('context', context)\n",
        "\n",
        "decoder_combined_context = concatenate([context, decoder])\n",
        "print('decoder_combined_context', decoder_combined_context)\n",
        "\n",
        "# Has another weight + tanh layer as described in equation (5) of the paper\n",
        "output = TimeDistributed(Dense(512, activation=\"tanh\"))(decoder_combined_context)\n",
        "output = TimeDistributed(Dense(dict_size, activation=\"softmax\"))(output)\n",
        "print('output', output)"
      ],
      "execution_count": null,
      "outputs": [
        {
          "output_type": "stream",
          "text": [
            "attention Tensor(\"attention/truediv:0\", shape=(?, 20, 20), dtype=float32)\n",
            "context Tensor(\"dot_2/MatMul:0\", shape=(?, 20, 512), dtype=float32)\n",
            "decoder_combined_context Tensor(\"concatenate_1/concat:0\", shape=(?, 20, 1024), dtype=float32)\n",
            "output Tensor(\"time_distributed_2/Reshape_1:0\", shape=(?, 20, 1941), dtype=float32)\n"
          ],
          "name": "stdout"
        }
      ]
    },
    {
      "cell_type": "code",
      "metadata": {
        "_uuid": "257dcf12770f8928f91754044d3efc5aff1ec296",
        "execution": {
          "iopub.status.busy": "2021-06-08T08:05:21.352997Z",
          "iopub.execute_input": "2021-06-08T08:05:21.353340Z",
          "iopub.status.idle": "2021-06-08T08:05:21.400977Z",
          "shell.execute_reply.started": "2021-06-08T08:05:21.353276Z",
          "shell.execute_reply": "2021-06-08T08:05:21.400172Z"
        },
        "trusted": true,
        "id": "ephk1qgIF_34",
        "outputId": "096e3420-6bfc-4b4c-d45b-05297913e425"
      },
      "source": [
        "model = Model(inputs=[encoder_input, decoder_input], outputs=[output])\n",
        "model.compile(optimizer='adam', loss='binary_crossentropy', metrics = ['accuracy'])\n",
        "model.summary()"
      ],
      "execution_count": null,
      "outputs": [
        {
          "output_type": "stream",
          "text": [
            "__________________________________________________________________________________________________\n",
            "Layer (type)                    Output Shape         Param #     Connected to                     \n",
            "==================================================================================================\n",
            "input_2 (InputLayer)            (None, 20)           0                                            \n",
            "__________________________________________________________________________________________________\n",
            "input_1 (InputLayer)            (None, 20)           0                                            \n",
            "__________________________________________________________________________________________________\n",
            "embedding_2 (Embedding)         (None, 20, 128)      248448      input_2[0][0]                    \n",
            "__________________________________________________________________________________________________\n",
            "embedding_1 (Embedding)         (None, 20, 128)      248448      input_1[0][0]                    \n",
            "__________________________________________________________________________________________________\n",
            "lstm_2 (LSTM)                   (None, 20, 512)      1312768     embedding_2[0][0]                \n",
            "__________________________________________________________________________________________________\n",
            "lstm_1 (LSTM)                   (None, 20, 512)      1312768     embedding_1[0][0]                \n",
            "__________________________________________________________________________________________________\n",
            "dot_1 (Dot)                     (None, 20, 20)       0           lstm_2[0][0]                     \n",
            "                                                                 lstm_1[0][0]                     \n",
            "__________________________________________________________________________________________________\n",
            "attention (Activation)          (None, 20, 20)       0           dot_1[0][0]                      \n",
            "__________________________________________________________________________________________________\n",
            "dot_2 (Dot)                     (None, 20, 512)      0           attention[0][0]                  \n",
            "                                                                 lstm_1[0][0]                     \n",
            "__________________________________________________________________________________________________\n",
            "concatenate_1 (Concatenate)     (None, 20, 1024)     0           dot_2[0][0]                      \n",
            "                                                                 lstm_2[0][0]                     \n",
            "__________________________________________________________________________________________________\n",
            "time_distributed_1 (TimeDistrib (None, 20, 512)      524800      concatenate_1[0][0]              \n",
            "__________________________________________________________________________________________________\n",
            "time_distributed_2 (TimeDistrib (None, 20, 1941)     995733      time_distributed_1[0][0]         \n",
            "==================================================================================================\n",
            "Total params: 4,642,965\n",
            "Trainable params: 4,642,965\n",
            "Non-trainable params: 0\n",
            "__________________________________________________________________________________________________\n"
          ],
          "name": "stdout"
        }
      ]
    },
    {
      "cell_type": "code",
      "metadata": {
        "_uuid": "09b61276a10c14838eb09db124a229ac58c61133",
        "execution": {
          "iopub.status.busy": "2021-06-08T08:05:21.402247Z",
          "iopub.execute_input": "2021-06-08T08:05:21.402600Z",
          "iopub.status.idle": "2021-06-08T08:05:26.357677Z",
          "shell.execute_reply.started": "2021-06-08T08:05:21.402532Z",
          "shell.execute_reply": "2021-06-08T08:05:26.356946Z"
        },
        "trusted": true,
        "id": "USvGD9R6F_34"
      },
      "source": [
        "training_encoder_input = encoded_training_input\n",
        "training_decoder_input = np.zeros_like(encoded_training_output)\n",
        "training_decoder_input[:, 1:] = encoded_training_output[:,:-1]\n",
        "training_decoder_input[:, 0] = WORD_CODE_START\n",
        "training_decoder_output = np.eye(dict_size)[encoded_training_output.astype('int')]\n",
        "\n",
        "validation_encoder_input = encoded_validation_input\n",
        "validation_decoder_input = np.zeros_like(encoded_validation_output)\n",
        "validation_decoder_input[:, 1:] = encoded_validation_output[:,:-1]\n",
        "validation_decoder_input[:, 0] = WORD_CODE_START\n",
        "validation_decoder_output = np.eye(dict_size)[encoded_validation_output.astype('int')]"
      ],
      "execution_count": null,
      "outputs": []
    },
    {
      "cell_type": "code",
      "metadata": {
        "_uuid": "3d43e174878dfbef64900b7f043d7bb41f458309",
        "execution": {
          "iopub.status.busy": "2021-06-08T08:05:26.358976Z",
          "iopub.execute_input": "2021-06-08T08:05:26.359263Z",
          "iopub.status.idle": "2021-06-08T08:48:33.009929Z",
          "shell.execute_reply.started": "2021-06-08T08:05:26.359217Z",
          "shell.execute_reply": "2021-06-08T08:48:33.009210Z"
        },
        "trusted": true,
        "id": "PAHVPRjcF_34",
        "outputId": "d221f728-ec17-45f8-ab43-8cbf6e77a8af"
      },
      "source": [
        "model.fit(x=[training_encoder_input, training_decoder_input], y=[training_decoder_output],\n",
        "          validation_data=([validation_encoder_input, validation_decoder_input], [validation_decoder_output]),\n",
        "          #validation_split=0.05,\n",
        "          batch_size=64, \n",
        "          epochs=100)\n",
        "\n",
        "model.save('model_attention.h5')"
      ],
      "execution_count": null,
      "outputs": [
        {
          "output_type": "stream",
          "text": [
            "Train on 24000 samples, validate on 6000 samples\n",
            "Epoch 1/100\n",
            "24000/24000 [==============================] - 38s 2ms/step - loss: 0.0031 - acc: 0.9995 - val_loss: 0.0028 - val_acc: 0.9995\n",
            "Epoch 2/100\n",
            "24000/24000 [==============================] - 26s 1ms/step - loss: 0.0027 - acc: 0.9995 - val_loss: 0.0026 - val_acc: 0.9995\n",
            "Epoch 3/100\n",
            "24000/24000 [==============================] - 26s 1ms/step - loss: 0.0025 - acc: 0.9995 - val_loss: 0.0025 - val_acc: 0.9995\n",
            "Epoch 4/100\n",
            "24000/24000 [==============================] - 26s 1ms/step - loss: 0.0024 - acc: 0.9995 - val_loss: 0.0024 - val_acc: 0.9995\n",
            "Epoch 5/100\n",
            "24000/24000 [==============================] - 26s 1ms/step - loss: 0.0024 - acc: 0.9995 - val_loss: 0.0024 - val_acc: 0.9995\n",
            "Epoch 6/100\n",
            "24000/24000 [==============================] - 26s 1ms/step - loss: 0.0023 - acc: 0.9995 - val_loss: 0.0024 - val_acc: 0.9995\n",
            "Epoch 7/100\n",
            "24000/24000 [==============================] - 26s 1ms/step - loss: 0.0023 - acc: 0.9995 - val_loss: 0.0023 - val_acc: 0.9995\n",
            "Epoch 8/100\n",
            "24000/24000 [==============================] - 25s 1ms/step - loss: 0.0023 - acc: 0.9995 - val_loss: 0.0023 - val_acc: 0.9995\n",
            "Epoch 9/100\n",
            "24000/24000 [==============================] - 26s 1ms/step - loss: 0.0023 - acc: 0.9995 - val_loss: 0.0023 - val_acc: 0.9995\n",
            "Epoch 10/100\n",
            "24000/24000 [==============================] - 26s 1ms/step - loss: 0.0022 - acc: 0.9995 - val_loss: 0.0023 - val_acc: 0.9995\n",
            "Epoch 11/100\n",
            "24000/24000 [==============================] - 26s 1ms/step - loss: 0.0022 - acc: 0.9995 - val_loss: 0.0023 - val_acc: 0.9995\n",
            "Epoch 12/100\n",
            "24000/24000 [==============================] - 25s 1ms/step - loss: 0.0022 - acc: 0.9995 - val_loss: 0.0023 - val_acc: 0.9995\n",
            "Epoch 13/100\n",
            "24000/24000 [==============================] - 26s 1ms/step - loss: 0.0021 - acc: 0.9995 - val_loss: 0.0023 - val_acc: 0.9995\n",
            "Epoch 14/100\n",
            "24000/24000 [==============================] - 26s 1ms/step - loss: 0.0021 - acc: 0.9995 - val_loss: 0.0023 - val_acc: 0.9995\n",
            "Epoch 15/100\n",
            "24000/24000 [==============================] - 26s 1ms/step - loss: 0.0021 - acc: 0.9995 - val_loss: 0.0023 - val_acc: 0.9995\n",
            "Epoch 16/100\n",
            "24000/24000 [==============================] - 26s 1ms/step - loss: 0.0020 - acc: 0.9995 - val_loss: 0.0023 - val_acc: 0.9995\n",
            "Epoch 17/100\n",
            "24000/24000 [==============================] - 26s 1ms/step - loss: 0.0020 - acc: 0.9995 - val_loss: 0.0024 - val_acc: 0.9995\n",
            "Epoch 18/100\n",
            "24000/24000 [==============================] - 26s 1ms/step - loss: 0.0020 - acc: 0.9995 - val_loss: 0.0024 - val_acc: 0.9995\n",
            "Epoch 19/100\n",
            "24000/24000 [==============================] - 26s 1ms/step - loss: 0.0019 - acc: 0.9996 - val_loss: 0.0024 - val_acc: 0.9995\n",
            "Epoch 20/100\n",
            "24000/24000 [==============================] - 25s 1ms/step - loss: 0.0018 - acc: 0.9996 - val_loss: 0.0024 - val_acc: 0.9995\n",
            "Epoch 21/100\n",
            "24000/24000 [==============================] - 26s 1ms/step - loss: 0.0018 - acc: 0.9996 - val_loss: 0.0025 - val_acc: 0.9995\n",
            "Epoch 22/100\n",
            "24000/24000 [==============================] - 26s 1ms/step - loss: 0.0017 - acc: 0.9996 - val_loss: 0.0025 - val_acc: 0.9995\n",
            "Epoch 23/100\n",
            "24000/24000 [==============================] - 26s 1ms/step - loss: 0.0017 - acc: 0.9996 - val_loss: 0.0025 - val_acc: 0.9995\n",
            "Epoch 24/100\n",
            "24000/24000 [==============================] - 25s 1ms/step - loss: 0.0016 - acc: 0.9996 - val_loss: 0.0026 - val_acc: 0.9995\n",
            "Epoch 25/100\n",
            "24000/24000 [==============================] - 26s 1ms/step - loss: 0.0015 - acc: 0.9996 - val_loss: 0.0026 - val_acc: 0.9995\n",
            "Epoch 26/100\n",
            "24000/24000 [==============================] - 26s 1ms/step - loss: 0.0015 - acc: 0.9996 - val_loss: 0.0027 - val_acc: 0.9995\n",
            "Epoch 27/100\n",
            "24000/24000 [==============================] - 26s 1ms/step - loss: 0.0014 - acc: 0.9996 - val_loss: 0.0027 - val_acc: 0.9995\n",
            "Epoch 28/100\n",
            "24000/24000 [==============================] - 26s 1ms/step - loss: 0.0013 - acc: 0.9997 - val_loss: 0.0028 - val_acc: 0.9995\n",
            "Epoch 29/100\n",
            "24000/24000 [==============================] - 26s 1ms/step - loss: 0.0013 - acc: 0.9997 - val_loss: 0.0029 - val_acc: 0.9995\n",
            "Epoch 30/100\n",
            "24000/24000 [==============================] - 26s 1ms/step - loss: 0.0012 - acc: 0.9997 - val_loss: 0.0029 - val_acc: 0.9995\n",
            "Epoch 31/100\n",
            "24000/24000 [==============================] - 26s 1ms/step - loss: 0.0011 - acc: 0.9997 - val_loss: 0.0030 - val_acc: 0.9995\n",
            "Epoch 32/100\n",
            "24000/24000 [==============================] - 26s 1ms/step - loss: 0.0011 - acc: 0.9997 - val_loss: 0.0031 - val_acc: 0.9995\n",
            "Epoch 33/100\n",
            "24000/24000 [==============================] - 26s 1ms/step - loss: 0.0010 - acc: 0.9997 - val_loss: 0.0031 - val_acc: 0.9994\n",
            "Epoch 34/100\n",
            "24000/24000 [==============================] - 26s 1ms/step - loss: 9.7329e-04 - acc: 0.9997 - val_loss: 0.0032 - val_acc: 0.9994\n",
            "Epoch 35/100\n",
            "24000/24000 [==============================] - 26s 1ms/step - loss: 9.2321e-04 - acc: 0.9998 - val_loss: 0.0033 - val_acc: 0.9994\n",
            "Epoch 36/100\n",
            "24000/24000 [==============================] - 26s 1ms/step - loss: 8.7579e-04 - acc: 0.9998 - val_loss: 0.0033 - val_acc: 0.9994\n",
            "Epoch 37/100\n",
            "24000/24000 [==============================] - 26s 1ms/step - loss: 8.2273e-04 - acc: 0.9998 - val_loss: 0.0034 - val_acc: 0.9994\n",
            "Epoch 38/100\n",
            "24000/24000 [==============================] - 26s 1ms/step - loss: 7.7683e-04 - acc: 0.9998 - val_loss: 0.0035 - val_acc: 0.9994\n",
            "Epoch 39/100\n",
            "24000/24000 [==============================] - 26s 1ms/step - loss: 7.3389e-04 - acc: 0.9998 - val_loss: 0.0035 - val_acc: 0.9994\n",
            "Epoch 40/100\n",
            "24000/24000 [==============================] - 25s 1ms/step - loss: 6.9587e-04 - acc: 0.9998 - val_loss: 0.0036 - val_acc: 0.9994\n",
            "Epoch 41/100\n",
            "24000/24000 [==============================] - 26s 1ms/step - loss: 6.5254e-04 - acc: 0.9998 - val_loss: 0.0037 - val_acc: 0.9994\n",
            "Epoch 42/100\n",
            "24000/24000 [==============================] - 26s 1ms/step - loss: 6.0863e-04 - acc: 0.9998 - val_loss: 0.0037 - val_acc: 0.9994\n",
            "Epoch 43/100\n",
            "24000/24000 [==============================] - 26s 1ms/step - loss: 5.7111e-04 - acc: 0.9998 - val_loss: 0.0038 - val_acc: 0.9994\n",
            "Epoch 44/100\n",
            "24000/24000 [==============================] - 26s 1ms/step - loss: 5.2824e-04 - acc: 0.9999 - val_loss: 0.0039 - val_acc: 0.9994\n",
            "Epoch 45/100\n",
            "24000/24000 [==============================] - 26s 1ms/step - loss: 4.9452e-04 - acc: 0.9999 - val_loss: 0.0039 - val_acc: 0.9994\n",
            "Epoch 46/100\n",
            "24000/24000 [==============================] - 26s 1ms/step - loss: 4.5879e-04 - acc: 0.9999 - val_loss: 0.0040 - val_acc: 0.9994\n",
            "Epoch 47/100\n",
            "24000/24000 [==============================] - 26s 1ms/step - loss: 4.2982e-04 - acc: 0.9999 - val_loss: 0.0041 - val_acc: 0.9994\n",
            "Epoch 48/100\n",
            "24000/24000 [==============================] - 26s 1ms/step - loss: 4.0470e-04 - acc: 0.9999 - val_loss: 0.0041 - val_acc: 0.9994\n",
            "Epoch 49/100\n",
            "24000/24000 [==============================] - 26s 1ms/step - loss: 3.7398e-04 - acc: 0.9999 - val_loss: 0.0042 - val_acc: 0.9994\n",
            "Epoch 50/100\n",
            "24000/24000 [==============================] - 25s 1ms/step - loss: 3.3088e-04 - acc: 0.9999 - val_loss: 0.0042 - val_acc: 0.9994\n",
            "Epoch 51/100\n",
            "24000/24000 [==============================] - 26s 1ms/step - loss: 3.0047e-04 - acc: 0.9999 - val_loss: 0.0043 - val_acc: 0.9994\n",
            "Epoch 52/100\n",
            "24000/24000 [==============================] - 26s 1ms/step - loss: 2.8716e-04 - acc: 0.9999 - val_loss: 0.0044 - val_acc: 0.9993\n",
            "Epoch 53/100\n",
            "24000/24000 [==============================] - 26s 1ms/step - loss: 2.7372e-04 - acc: 0.9999 - val_loss: 0.0044 - val_acc: 0.9993\n",
            "Epoch 54/100\n",
            "24000/24000 [==============================] - 26s 1ms/step - loss: 2.5498e-04 - acc: 0.9999 - val_loss: 0.0045 - val_acc: 0.9993\n",
            "Epoch 55/100\n",
            "24000/24000 [==============================] - 26s 1ms/step - loss: 2.4051e-04 - acc: 0.9999 - val_loss: 0.0045 - val_acc: 0.9993\n",
            "Epoch 56/100\n",
            "24000/24000 [==============================] - 26s 1ms/step - loss: 2.2102e-04 - acc: 0.9999 - val_loss: 0.0046 - val_acc: 0.9993\n",
            "Epoch 57/100\n",
            "24000/24000 [==============================] - 26s 1ms/step - loss: 2.0171e-04 - acc: 0.9999 - val_loss: 0.0046 - val_acc: 0.9993\n",
            "Epoch 58/100\n",
            "24000/24000 [==============================] - 26s 1ms/step - loss: 1.8189e-04 - acc: 1.0000 - val_loss: 0.0047 - val_acc: 0.9993\n",
            "Epoch 59/100\n",
            "24000/24000 [==============================] - 26s 1ms/step - loss: 1.7586e-04 - acc: 1.0000 - val_loss: 0.0047 - val_acc: 0.9993\n",
            "Epoch 60/100\n",
            "24000/24000 [==============================] - 25s 1ms/step - loss: 1.7195e-04 - acc: 1.0000 - val_loss: 0.0047 - val_acc: 0.9993\n",
            "Epoch 61/100\n",
            "24000/24000 [==============================] - 26s 1ms/step - loss: 1.6482e-04 - acc: 1.0000 - val_loss: 0.0048 - val_acc: 0.9993\n",
            "Epoch 62/100\n",
            "24000/24000 [==============================] - 26s 1ms/step - loss: 1.6681e-04 - acc: 1.0000 - val_loss: 0.0048 - val_acc: 0.9993\n",
            "Epoch 63/100\n",
            "24000/24000 [==============================] - 25s 1ms/step - loss: 1.5638e-04 - acc: 1.0000 - val_loss: 0.0048 - val_acc: 0.9993\n",
            "Epoch 64/100\n",
            "24000/24000 [==============================] - 25s 1ms/step - loss: 1.4248e-04 - acc: 1.0000 - val_loss: 0.0049 - val_acc: 0.9993\n",
            "Epoch 65/100\n",
            "24000/24000 [==============================] - 25s 1ms/step - loss: 1.4690e-04 - acc: 1.0000 - val_loss: 0.0049 - val_acc: 0.9993\n",
            "Epoch 66/100\n",
            "24000/24000 [==============================] - 25s 1ms/step - loss: 1.4536e-04 - acc: 1.0000 - val_loss: 0.0049 - val_acc: 0.9993\n",
            "Epoch 67/100\n",
            "24000/24000 [==============================] - 26s 1ms/step - loss: 1.4446e-04 - acc: 1.0000 - val_loss: 0.0050 - val_acc: 0.9993\n",
            "Epoch 68/100\n",
            "24000/24000 [==============================] - 26s 1ms/step - loss: 1.3807e-04 - acc: 1.0000 - val_loss: 0.0050 - val_acc: 0.9993\n",
            "Epoch 69/100\n",
            "24000/24000 [==============================] - 26s 1ms/step - loss: 1.3024e-04 - acc: 1.0000 - val_loss: 0.0050 - val_acc: 0.9993\n",
            "Epoch 70/100\n",
            "24000/24000 [==============================] - 26s 1ms/step - loss: 1.2381e-04 - acc: 1.0000 - val_loss: 0.0050 - val_acc: 0.9993\n",
            "Epoch 71/100\n",
            "24000/24000 [==============================] - 27s 1ms/step - loss: 1.2842e-04 - acc: 1.0000 - val_loss: 0.0050 - val_acc: 0.9993\n",
            "Epoch 72/100\n",
            "24000/24000 [==============================] - 26s 1ms/step - loss: 1.3074e-04 - acc: 1.0000 - val_loss: 0.0051 - val_acc: 0.9993\n",
            "Epoch 73/100\n",
            "24000/24000 [==============================] - 26s 1ms/step - loss: 1.2545e-04 - acc: 1.0000 - val_loss: 0.0051 - val_acc: 0.9993\n",
            "Epoch 74/100\n",
            "24000/24000 [==============================] - 25s 1ms/step - loss: 1.1490e-04 - acc: 1.0000 - val_loss: 0.0051 - val_acc: 0.9993\n",
            "Epoch 75/100\n",
            "24000/24000 [==============================] - 25s 1ms/step - loss: 1.1004e-04 - acc: 1.0000 - val_loss: 0.0051 - val_acc: 0.9993\n",
            "Epoch 76/100\n",
            "24000/24000 [==============================] - 25s 1ms/step - loss: 1.1509e-04 - acc: 1.0000 - val_loss: 0.0051 - val_acc: 0.9993\n",
            "Epoch 77/100\n",
            "24000/24000 [==============================] - 25s 1ms/step - loss: 1.2049e-04 - acc: 1.0000 - val_loss: 0.0051 - val_acc: 0.9993\n",
            "Epoch 78/100\n",
            "24000/24000 [==============================] - 25s 1ms/step - loss: 1.1815e-04 - acc: 1.0000 - val_loss: 0.0052 - val_acc: 0.9993\n",
            "Epoch 79/100\n",
            "24000/24000 [==============================] - 25s 1ms/step - loss: 1.1470e-04 - acc: 1.0000 - val_loss: 0.0052 - val_acc: 0.9993\n",
            "Epoch 80/100\n",
            "24000/24000 [==============================] - 25s 1ms/step - loss: 1.1477e-04 - acc: 1.0000 - val_loss: 0.0052 - val_acc: 0.9993\n",
            "Epoch 81/100\n",
            "24000/24000 [==============================] - 26s 1ms/step - loss: 1.0717e-04 - acc: 1.0000 - val_loss: 0.0052 - val_acc: 0.9993\n",
            "Epoch 82/100\n",
            "24000/24000 [==============================] - 26s 1ms/step - loss: 1.1077e-04 - acc: 1.0000 - val_loss: 0.0052 - val_acc: 0.9993\n",
            "Epoch 83/100\n",
            "24000/24000 [==============================] - 26s 1ms/step - loss: 1.1380e-04 - acc: 1.0000 - val_loss: 0.0052 - val_acc: 0.9993\n",
            "Epoch 84/100\n",
            "24000/24000 [==============================] - 25s 1ms/step - loss: 1.1465e-04 - acc: 1.0000 - val_loss: 0.0052 - val_acc: 0.9993\n",
            "Epoch 85/100\n",
            "24000/24000 [==============================] - 25s 1ms/step - loss: 1.1086e-04 - acc: 1.0000 - val_loss: 0.0052 - val_acc: 0.9993\n",
            "Epoch 86/100\n",
            "24000/24000 [==============================] - 25s 1ms/step - loss: 1.1017e-04 - acc: 1.0000 - val_loss: 0.0052 - val_acc: 0.9993\n",
            "Epoch 87/100\n",
            "24000/24000 [==============================] - 26s 1ms/step - loss: 1.0386e-04 - acc: 1.0000 - val_loss: 0.0053 - val_acc: 0.9993\n",
            "Epoch 88/100\n",
            "24000/24000 [==============================] - 25s 1ms/step - loss: 9.9346e-05 - acc: 1.0000 - val_loss: 0.0053 - val_acc: 0.9993\n",
            "Epoch 89/100\n",
            "24000/24000 [==============================] - 25s 1ms/step - loss: 9.8465e-05 - acc: 1.0000 - val_loss: 0.0053 - val_acc: 0.9993\n",
            "Epoch 90/100\n",
            "24000/24000 [==============================] - 26s 1ms/step - loss: 9.6553e-05 - acc: 1.0000 - val_loss: 0.0053 - val_acc: 0.9993\n",
            "Epoch 91/100\n",
            "24000/24000 [==============================] - 25s 1ms/step - loss: 9.9873e-05 - acc: 1.0000 - val_loss: 0.0053 - val_acc: 0.9993\n",
            "Epoch 92/100\n",
            "24000/24000 [==============================] - 25s 1ms/step - loss: 1.0823e-04 - acc: 1.0000 - val_loss: 0.0053 - val_acc: 0.9993\n",
            "Epoch 93/100\n",
            "24000/24000 [==============================] - 25s 1ms/step - loss: 1.1690e-04 - acc: 1.0000 - val_loss: 0.0053 - val_acc: 0.9993\n",
            "Epoch 94/100\n",
            "24000/24000 [==============================] - 25s 1ms/step - loss: 1.1436e-04 - acc: 1.0000 - val_loss: 0.0053 - val_acc: 0.9993\n",
            "Epoch 95/100\n",
            "24000/24000 [==============================] - 25s 1ms/step - loss: 1.0571e-04 - acc: 1.0000 - val_loss: 0.0053 - val_acc: 0.9993\n",
            "Epoch 96/100\n",
            "24000/24000 [==============================] - 25s 1ms/step - loss: 9.6637e-05 - acc: 1.0000 - val_loss: 0.0054 - val_acc: 0.9993\n",
            "Epoch 97/100\n",
            "24000/24000 [==============================] - 26s 1ms/step - loss: 8.3000e-05 - acc: 1.0000 - val_loss: 0.0053 - val_acc: 0.9993\n",
            "Epoch 98/100\n",
            "24000/24000 [==============================] - 25s 1ms/step - loss: 7.9851e-05 - acc: 1.0000 - val_loss: 0.0053 - val_acc: 0.9993\n",
            "Epoch 99/100\n",
            "24000/24000 [==============================] - 25s 1ms/step - loss: 8.3733e-05 - acc: 1.0000 - val_loss: 0.0054 - val_acc: 0.9993\n",
            "Epoch 100/100\n",
            "24000/24000 [==============================] - 26s 1ms/step - loss: 9.3987e-05 - acc: 1.0000 - val_loss: 0.0054 - val_acc: 0.9993\n"
          ],
          "name": "stdout"
        },
        {
          "output_type": "stream",
          "text": [
            "/opt/conda/lib/python3.6/site-packages/Keras-2.1.5-py3.6.egg/keras/engine/topology.py:2379: UserWarning: Layer lstm_2 was passed non-serializable keyword arguments: {'initial_state': [<tf.Tensor 'strided_slice:0' shape=(?, 512) dtype=float32>, <tf.Tensor 'strided_slice:0' shape=(?, 512) dtype=float32>]}. They will not be included in the serialized model (and thus will be missing at deserialization time).\n"
          ],
          "name": "stderr"
        }
      ]
    },
    {
      "cell_type": "markdown",
      "metadata": {
        "_uuid": "874f0398f10f48cce993bcd9aa7b5e0644b6f292",
        "trusted": true,
        "id": "qmK3IauaF_35"
      },
      "source": [
        "## 3. Model testing"
      ]
    },
    {
      "cell_type": "code",
      "metadata": {
        "_uuid": "d0e3217f3d250c253dd457f192f54f8cd67c630f",
        "execution": {
          "iopub.status.busy": "2021-06-08T08:48:33.011397Z",
          "iopub.execute_input": "2021-06-08T08:48:33.011681Z",
          "iopub.status.idle": "2021-06-08T08:48:33.042332Z",
          "shell.execute_reply.started": "2021-06-08T08:48:33.011635Z",
          "shell.execute_reply": "2021-06-08T08:48:33.041371Z"
        },
        "trusted": true,
        "id": "FiUCDPp7F_35"
      },
      "source": [
        "def prediction(raw_input):\n",
        "    clean_input = clean_text(raw_input)\n",
        "    input_tok = [nltk.word_tokenize(clean_input)]\n",
        "    input_tok = [input_tok[0][::-1]]  #reverseing input seq\n",
        "    encoder_input = transform(encoding, input_tok, 20)\n",
        "    decoder_input = np.zeros(shape=(len(encoder_input), OUTPUT_LENGTH))\n",
        "    decoder_input[:,0] = WORD_CODE_START\n",
        "    for i in range(1, OUTPUT_LENGTH):\n",
        "        output = model.predict([encoder_input, decoder_input]).argmax(axis=2)\n",
        "        decoder_input[:,i] = output[:,i]\n",
        "    return output\n",
        "\n",
        "def decode(decoding, vector):\n",
        "    \"\"\"\n",
        "    :param decoding: decoding dict built by word encoding\n",
        "    :param vector: an encoded vector\n",
        "    \"\"\"\n",
        "    text = ''\n",
        "    for i in vector:\n",
        "        if i == 0:\n",
        "            break\n",
        "        text += ' '\n",
        "        text += decoding[i]\n",
        "    return text"
      ],
      "execution_count": null,
      "outputs": []
    },
    {
      "cell_type": "code",
      "metadata": {
        "_uuid": "16e6ece57e4c02321c58176e5471f37ad1170837",
        "execution": {
          "iopub.status.busy": "2021-06-08T08:48:33.043547Z",
          "iopub.execute_input": "2021-06-08T08:48:33.043880Z",
          "iopub.status.idle": "2021-06-08T08:48:39.788228Z",
          "shell.execute_reply.started": "2021-06-08T08:48:33.043792Z",
          "shell.execute_reply": "2021-06-08T08:48:39.787452Z"
        },
        "trusted": true,
        "id": "DizwtH0tF_35",
        "outputId": "1e296ebb-7ead-4f57-c777-80dd3304e047"
      },
      "source": [
        "for i in range(20):\n",
        "    seq_index = np.random.randint(1, len(short_questions))\n",
        "    output = prediction(short_questions[seq_index])\n",
        "    print ('Q:', short_questions[seq_index])\n",
        "    print ('A:', decode(decoding, output[0]))"
      ],
      "execution_count": null,
      "outputs": [
        {
          "output_type": "stream",
          "text": [
            "Q: if they are, they are screening their calls.\n",
            "A:  <UNK> <UNK> <UNK> <UNK> . <UNK> <UNK> <UNK> .\n",
            "Q: understand, i had help\n",
            "A:  not a time for <UNK> , bob\n",
            "Q: i say, do what you wanna do.\n",
            "A:  funny , you are the only one\n",
            "Q: no, that is okay. it is just sean...\n",
            "A:  he is not with any other ...\n",
            "Q: are you sure you saw that? in the rain it may have ulookedu like it changed shape\n",
            "A:  i do not know , dad . but it was big .\n",
            "Q: he was a year ahead of us?\n",
            "A:  he died , remember ? on the way to the prom . he was <UNK> .\n",
            "Q: ask yourself, why do you seek the cup of christ? is it for his glory, or for yours?\n",
            "A:  i did not come for the cup of christ . i came to find my father .\n",
            "Q: that was war.\n",
            "A:  so is this . come now , you are <UNK> the little one .\n",
            "Q: give up, babe. you cannot fight it. believe me, my mom tried...\n",
            "A:  stephen , you got ta stop just showing up on the roof like this .\n",
            "Q: it is not mine.\n",
            "A:  it is not mine either .\n",
            "Q: they are prisoners to their genes.\n",
            "A:  so are dogs .\n",
            "Q: it is, after all, sera, my money.\n",
            "A:  what about you ? you just want on <UNK> ?\n",
            "Q: she had a one wayticket to kansas city.\n",
            "A:  you mean she is dead ?\n",
            "Q: i have never met anyone like you in my life.\n",
            "A:  she is right ? !\n",
            "Q: look, i will be done in a minute. just wait outside.\n",
            "A:  i am afraid i do not understand . i simply wish to know\n",
            "Q: what...? what if i say no?\n",
            "A:  check your gun before you leave . they are not <UNK> in <UNK> until it is .\n",
            "Q: i am sorry.\n",
            "A:  me too .\n",
            "Q: you cannot make me do a thing.\n",
            "A:  oh ? right away , baron . this is roger <UNK> . i am very sorry . i was was\n",
            "Q: mom. do not cry. i can change this.\n",
            "A:  i think i will go check out the <UNK> .\n",
            "Q: you trust me?\n",
            "A:  i will pay you .\n"
          ],
          "name": "stdout"
        }
      ]
    },
    {
      "cell_type": "code",
      "metadata": {
        "_uuid": "c8909443bde5f6195e9a2983cdc633b9081c893d",
        "trusted": true,
        "id": "LWoIwGC9F_35"
      },
      "source": [
        "raw_input = input('ask me a quuestion: ')\n",
        "output = prediction(raw_input)\n",
        "print (decode(decoding, output[0]))"
      ],
      "execution_count": null,
      "outputs": []
    },
    {
      "cell_type": "code",
      "metadata": {
        "id": "kfYxSaoPF_35"
      },
      "source": [
        ""
      ],
      "execution_count": null,
      "outputs": []
    },
    {
      "cell_type": "code",
      "metadata": {
        "id": "sdxAYCvjF_35"
      },
      "source": [
        ""
      ],
      "execution_count": null,
      "outputs": []
    },
    {
      "cell_type": "code",
      "metadata": {
        "id": "hHGQXe9vF_36"
      },
      "source": [
        ""
      ],
      "execution_count": null,
      "outputs": []
    }
  ]
}